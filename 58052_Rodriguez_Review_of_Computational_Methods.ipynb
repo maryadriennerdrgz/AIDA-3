{
  "nbformat": 4,
  "nbformat_minor": 0,
  "metadata": {
    "colab": {
      "provenance": [],
      "include_colab_link": true
    },
    "kernelspec": {
      "name": "python3",
      "display_name": "Python 3"
    },
    "language_info": {
      "name": "python"
    }
  },
  "cells": [
    {
      "cell_type": "markdown",
      "metadata": {
        "id": "view-in-github",
        "colab_type": "text"
      },
      "source": [
        "<a href=\"https://colab.research.google.com/github/maryadriennerdrgz/AIDA-3/blob/main/58052_Rodriguez_Review_of_Computational_Methods.ipynb\" target=\"_parent\"><img src=\"https://colab.research.google.com/assets/colab-badge.svg\" alt=\"Open In Colab\"/></a>"
      ]
    },
    {
      "cell_type": "markdown",
      "source": [
        "# Activity 01: Review of Computational Methods\n",
        "$_{\\text{Machine Learning / Deep Learning Course | © D.J. Lopez 2023}}$"
      ],
      "metadata": {
        "id": "sczByhq_zrtQ"
      }
    },
    {
      "cell_type": "markdown",
      "source": [
        "Directions: Answer the questions stated in the succeeding cells using your own codes. Solutions should be shown using your own coded algorithms. If the question implies a textual answer please provide a Text cell for your worded answer. "
      ],
      "metadata": {
        "id": "ICeyBspqB1xO"
      }
    },
    {
      "cell_type": "code",
      "execution_count": 1,
      "metadata": {
        "id": "9z788OT2zUiQ"
      },
      "outputs": [],
      "source": [
        "## DO NOT EDIT THIS CELL\n",
        "import numpy as np\n",
        "import pandas as pd\n",
        "import matplotlib.pyplot as plt\n",
        "import seaborn as sns\n",
        "\n",
        "url = 'https://raw.githubusercontent.com/maryadriennerdrgz/AIDA-3/main/historical-cost-of-computer-memory-and-storage.csv'\n",
        "\n",
        "df = pd.read_csv(url)\n",
        "## You can download the data here:\n",
        "## https://ourworldindata.org/grapher/historical-cost-of-computer-memory-and-storage?country=~OWID_WRL"
      ]
    },
    {
      "cell_type": "code",
      "source": [
        "df"
      ],
      "metadata": {
        "id": "sViVLIfQquD3",
        "outputId": "ce317f90-8d2e-432e-c124-b43c8ff78732",
        "colab": {
          "base_uri": "https://localhost:8080/",
          "height": 1000
        }
      },
      "execution_count": 2,
      "outputs": [
        {
          "output_type": "execute_result",
          "data": {
            "text/plain": [
              "   Entity      Code  Year        memory     flash  disk_drives       ssd\n",
              "0   World  OWID_WRL  1957  4.110418e+08       NaN          NaN       NaN\n",
              "1   World  OWID_WRL  1959  6.794772e+07       NaN  7600.000000       NaN\n",
              "2   World  OWID_WRL  1960  5.242880e+06       NaN  3600.000000       NaN\n",
              "3   World  OWID_WRL  1965  2.642412e+06       NaN          NaN       NaN\n",
              "4   World  OWID_WRL  1970  7.340030e+05       NaN   259.700000       NaN\n",
              "5   World  OWID_WRL  1973  3.993600e+05       NaN          NaN       NaN\n",
              "6   World  OWID_WRL  1974  3.145730e+05       NaN   185.000000       NaN\n",
              "7   World  OWID_WRL  1975  4.992000e+04       NaN          NaN       NaN\n",
              "8   World  OWID_WRL  1976  2.304000e+04       NaN          NaN       NaN\n",
              "9   World  OWID_WRL  1978  1.520000e+04       NaN          NaN       NaN\n",
              "10  World  OWID_WRL  1979  6.704000e+03       NaN          NaN       NaN\n",
              "11  World  OWID_WRL  1980  6.480000e+03       NaN          NaN       NaN\n",
              "12  World  OWID_WRL  1981  4.479000e+03       NaN          NaN       NaN\n",
              "13  World  OWID_WRL  1982  1.980000e+03       NaN          NaN       NaN\n",
              "14  World  OWID_WRL  1984  1.331000e+03       NaN          NaN       NaN\n",
              "15  World  OWID_WRL  1985  3.000000e+02       NaN    31.390000       NaN\n",
              "16  World  OWID_WRL  1986  1.900000e+02       NaN    24.450000       NaN\n",
              "17  World  OWID_WRL  1987  1.330000e+02       NaN    14.970000       NaN\n",
              "18  World  OWID_WRL  1989  1.130000e+02       NaN     7.480000       NaN\n",
              "19  World  OWID_WRL  1990  4.600000e+01       NaN     3.270000       NaN\n",
              "20  World  OWID_WRL  1991  4.000000e+01       NaN     2.790000       NaN\n",
              "21  World  OWID_WRL  1992  2.630000e+01       NaN     1.400000       NaN\n",
              "22  World  OWID_WRL  1996  5.250000e+00       NaN     0.128000       NaN\n",
              "23  World  OWID_WRL  1997  2.160000e+00       NaN     0.048400       NaN\n",
              "24  World  OWID_WRL  1998  8.400000e-01       NaN     0.024800       NaN\n",
              "25  World  OWID_WRL  1999  7.800000e-01       NaN     0.008800       NaN\n",
              "26  World  OWID_WRL  2000  7.000000e-01       NaN     0.004070       NaN\n",
              "27  World  OWID_WRL  2001  1.500000e-01       NaN     0.002590       NaN\n",
              "28  World  OWID_WRL  2002  1.300000e-01       NaN     0.001220       NaN\n",
              "29  World  OWID_WRL  2003  7.600000e-02  0.191000     0.001060       NaN\n",
              "30  World  OWID_WRL  2006  7.300000e-02  0.014600     0.000219       NaN\n",
              "31  World  OWID_WRL  2007  2.400000e-02  0.007320     0.000200       NaN\n",
              "32  World  OWID_WRL  2008  1.000000e-02  0.001830     0.000100       NaN\n",
              "33  World  OWID_WRL  2011  5.100000e-03  0.001007     0.000037       NaN\n",
              "34  World  OWID_WRL  2012  3.700000e-03  0.000580          NaN       NaN\n",
              "35  World  OWID_WRL  2016  2.700000e-03       NaN     0.000028  0.000203\n",
              "36  World  OWID_WRL  2005           NaN  0.076200     0.000406       NaN\n",
              "37  World  OWID_WRL  2009           NaN  0.001620     0.000070       NaN\n",
              "38  World  OWID_WRL  2010           NaN  0.001190     0.000045       NaN\n",
              "39  World  OWID_WRL  2013           NaN  0.000458          NaN  0.000625\n",
              "40  World  OWID_WRL  2014           NaN  0.000335     0.000035  0.000375\n",
              "41  World  OWID_WRL  2015           NaN  0.000145     0.000028  0.000250\n",
              "42  World  OWID_WRL  1956           NaN       NaN  9200.000000       NaN\n",
              "43  World  OWID_WRL  1964           NaN       NaN  3518.620000       NaN\n",
              "44  World  OWID_WRL  1966           NaN       NaN  1047.260000       NaN\n",
              "45  World  OWID_WRL  1988           NaN       NaN     9.970000       NaN\n",
              "46  World  OWID_WRL  1993           NaN       NaN     0.718000       NaN\n",
              "47  World  OWID_WRL  1994           NaN       NaN     0.433000       NaN\n",
              "48  World  OWID_WRL  1995           NaN       NaN     0.214000       NaN\n",
              "49  World  OWID_WRL  2004           NaN       NaN     0.000609       NaN\n",
              "50  World  OWID_WRL  2017           NaN       NaN     0.000025       NaN\n",
              "51  World  OWID_WRL  2018           NaN       NaN     0.000023  0.000104\n",
              "52  World  OWID_WRL  2019           NaN       NaN     0.000019  0.000079\n",
              "53  World  OWID_WRL  2020           NaN       NaN     0.000016  0.000075"
            ],
            "text/html": [
              "\n",
              "  <div id=\"df-3c7306c9-48f7-4cfb-969c-006c35cc967e\">\n",
              "    <div class=\"colab-df-container\">\n",
              "      <div>\n",
              "<style scoped>\n",
              "    .dataframe tbody tr th:only-of-type {\n",
              "        vertical-align: middle;\n",
              "    }\n",
              "\n",
              "    .dataframe tbody tr th {\n",
              "        vertical-align: top;\n",
              "    }\n",
              "\n",
              "    .dataframe thead th {\n",
              "        text-align: right;\n",
              "    }\n",
              "</style>\n",
              "<table border=\"1\" class=\"dataframe\">\n",
              "  <thead>\n",
              "    <tr style=\"text-align: right;\">\n",
              "      <th></th>\n",
              "      <th>Entity</th>\n",
              "      <th>Code</th>\n",
              "      <th>Year</th>\n",
              "      <th>memory</th>\n",
              "      <th>flash</th>\n",
              "      <th>disk_drives</th>\n",
              "      <th>ssd</th>\n",
              "    </tr>\n",
              "  </thead>\n",
              "  <tbody>\n",
              "    <tr>\n",
              "      <th>0</th>\n",
              "      <td>World</td>\n",
              "      <td>OWID_WRL</td>\n",
              "      <td>1957</td>\n",
              "      <td>4.110418e+08</td>\n",
              "      <td>NaN</td>\n",
              "      <td>NaN</td>\n",
              "      <td>NaN</td>\n",
              "    </tr>\n",
              "    <tr>\n",
              "      <th>1</th>\n",
              "      <td>World</td>\n",
              "      <td>OWID_WRL</td>\n",
              "      <td>1959</td>\n",
              "      <td>6.794772e+07</td>\n",
              "      <td>NaN</td>\n",
              "      <td>7600.000000</td>\n",
              "      <td>NaN</td>\n",
              "    </tr>\n",
              "    <tr>\n",
              "      <th>2</th>\n",
              "      <td>World</td>\n",
              "      <td>OWID_WRL</td>\n",
              "      <td>1960</td>\n",
              "      <td>5.242880e+06</td>\n",
              "      <td>NaN</td>\n",
              "      <td>3600.000000</td>\n",
              "      <td>NaN</td>\n",
              "    </tr>\n",
              "    <tr>\n",
              "      <th>3</th>\n",
              "      <td>World</td>\n",
              "      <td>OWID_WRL</td>\n",
              "      <td>1965</td>\n",
              "      <td>2.642412e+06</td>\n",
              "      <td>NaN</td>\n",
              "      <td>NaN</td>\n",
              "      <td>NaN</td>\n",
              "    </tr>\n",
              "    <tr>\n",
              "      <th>4</th>\n",
              "      <td>World</td>\n",
              "      <td>OWID_WRL</td>\n",
              "      <td>1970</td>\n",
              "      <td>7.340030e+05</td>\n",
              "      <td>NaN</td>\n",
              "      <td>259.700000</td>\n",
              "      <td>NaN</td>\n",
              "    </tr>\n",
              "    <tr>\n",
              "      <th>5</th>\n",
              "      <td>World</td>\n",
              "      <td>OWID_WRL</td>\n",
              "      <td>1973</td>\n",
              "      <td>3.993600e+05</td>\n",
              "      <td>NaN</td>\n",
              "      <td>NaN</td>\n",
              "      <td>NaN</td>\n",
              "    </tr>\n",
              "    <tr>\n",
              "      <th>6</th>\n",
              "      <td>World</td>\n",
              "      <td>OWID_WRL</td>\n",
              "      <td>1974</td>\n",
              "      <td>3.145730e+05</td>\n",
              "      <td>NaN</td>\n",
              "      <td>185.000000</td>\n",
              "      <td>NaN</td>\n",
              "    </tr>\n",
              "    <tr>\n",
              "      <th>7</th>\n",
              "      <td>World</td>\n",
              "      <td>OWID_WRL</td>\n",
              "      <td>1975</td>\n",
              "      <td>4.992000e+04</td>\n",
              "      <td>NaN</td>\n",
              "      <td>NaN</td>\n",
              "      <td>NaN</td>\n",
              "    </tr>\n",
              "    <tr>\n",
              "      <th>8</th>\n",
              "      <td>World</td>\n",
              "      <td>OWID_WRL</td>\n",
              "      <td>1976</td>\n",
              "      <td>2.304000e+04</td>\n",
              "      <td>NaN</td>\n",
              "      <td>NaN</td>\n",
              "      <td>NaN</td>\n",
              "    </tr>\n",
              "    <tr>\n",
              "      <th>9</th>\n",
              "      <td>World</td>\n",
              "      <td>OWID_WRL</td>\n",
              "      <td>1978</td>\n",
              "      <td>1.520000e+04</td>\n",
              "      <td>NaN</td>\n",
              "      <td>NaN</td>\n",
              "      <td>NaN</td>\n",
              "    </tr>\n",
              "    <tr>\n",
              "      <th>10</th>\n",
              "      <td>World</td>\n",
              "      <td>OWID_WRL</td>\n",
              "      <td>1979</td>\n",
              "      <td>6.704000e+03</td>\n",
              "      <td>NaN</td>\n",
              "      <td>NaN</td>\n",
              "      <td>NaN</td>\n",
              "    </tr>\n",
              "    <tr>\n",
              "      <th>11</th>\n",
              "      <td>World</td>\n",
              "      <td>OWID_WRL</td>\n",
              "      <td>1980</td>\n",
              "      <td>6.480000e+03</td>\n",
              "      <td>NaN</td>\n",
              "      <td>NaN</td>\n",
              "      <td>NaN</td>\n",
              "    </tr>\n",
              "    <tr>\n",
              "      <th>12</th>\n",
              "      <td>World</td>\n",
              "      <td>OWID_WRL</td>\n",
              "      <td>1981</td>\n",
              "      <td>4.479000e+03</td>\n",
              "      <td>NaN</td>\n",
              "      <td>NaN</td>\n",
              "      <td>NaN</td>\n",
              "    </tr>\n",
              "    <tr>\n",
              "      <th>13</th>\n",
              "      <td>World</td>\n",
              "      <td>OWID_WRL</td>\n",
              "      <td>1982</td>\n",
              "      <td>1.980000e+03</td>\n",
              "      <td>NaN</td>\n",
              "      <td>NaN</td>\n",
              "      <td>NaN</td>\n",
              "    </tr>\n",
              "    <tr>\n",
              "      <th>14</th>\n",
              "      <td>World</td>\n",
              "      <td>OWID_WRL</td>\n",
              "      <td>1984</td>\n",
              "      <td>1.331000e+03</td>\n",
              "      <td>NaN</td>\n",
              "      <td>NaN</td>\n",
              "      <td>NaN</td>\n",
              "    </tr>\n",
              "    <tr>\n",
              "      <th>15</th>\n",
              "      <td>World</td>\n",
              "      <td>OWID_WRL</td>\n",
              "      <td>1985</td>\n",
              "      <td>3.000000e+02</td>\n",
              "      <td>NaN</td>\n",
              "      <td>31.390000</td>\n",
              "      <td>NaN</td>\n",
              "    </tr>\n",
              "    <tr>\n",
              "      <th>16</th>\n",
              "      <td>World</td>\n",
              "      <td>OWID_WRL</td>\n",
              "      <td>1986</td>\n",
              "      <td>1.900000e+02</td>\n",
              "      <td>NaN</td>\n",
              "      <td>24.450000</td>\n",
              "      <td>NaN</td>\n",
              "    </tr>\n",
              "    <tr>\n",
              "      <th>17</th>\n",
              "      <td>World</td>\n",
              "      <td>OWID_WRL</td>\n",
              "      <td>1987</td>\n",
              "      <td>1.330000e+02</td>\n",
              "      <td>NaN</td>\n",
              "      <td>14.970000</td>\n",
              "      <td>NaN</td>\n",
              "    </tr>\n",
              "    <tr>\n",
              "      <th>18</th>\n",
              "      <td>World</td>\n",
              "      <td>OWID_WRL</td>\n",
              "      <td>1989</td>\n",
              "      <td>1.130000e+02</td>\n",
              "      <td>NaN</td>\n",
              "      <td>7.480000</td>\n",
              "      <td>NaN</td>\n",
              "    </tr>\n",
              "    <tr>\n",
              "      <th>19</th>\n",
              "      <td>World</td>\n",
              "      <td>OWID_WRL</td>\n",
              "      <td>1990</td>\n",
              "      <td>4.600000e+01</td>\n",
              "      <td>NaN</td>\n",
              "      <td>3.270000</td>\n",
              "      <td>NaN</td>\n",
              "    </tr>\n",
              "    <tr>\n",
              "      <th>20</th>\n",
              "      <td>World</td>\n",
              "      <td>OWID_WRL</td>\n",
              "      <td>1991</td>\n",
              "      <td>4.000000e+01</td>\n",
              "      <td>NaN</td>\n",
              "      <td>2.790000</td>\n",
              "      <td>NaN</td>\n",
              "    </tr>\n",
              "    <tr>\n",
              "      <th>21</th>\n",
              "      <td>World</td>\n",
              "      <td>OWID_WRL</td>\n",
              "      <td>1992</td>\n",
              "      <td>2.630000e+01</td>\n",
              "      <td>NaN</td>\n",
              "      <td>1.400000</td>\n",
              "      <td>NaN</td>\n",
              "    </tr>\n",
              "    <tr>\n",
              "      <th>22</th>\n",
              "      <td>World</td>\n",
              "      <td>OWID_WRL</td>\n",
              "      <td>1996</td>\n",
              "      <td>5.250000e+00</td>\n",
              "      <td>NaN</td>\n",
              "      <td>0.128000</td>\n",
              "      <td>NaN</td>\n",
              "    </tr>\n",
              "    <tr>\n",
              "      <th>23</th>\n",
              "      <td>World</td>\n",
              "      <td>OWID_WRL</td>\n",
              "      <td>1997</td>\n",
              "      <td>2.160000e+00</td>\n",
              "      <td>NaN</td>\n",
              "      <td>0.048400</td>\n",
              "      <td>NaN</td>\n",
              "    </tr>\n",
              "    <tr>\n",
              "      <th>24</th>\n",
              "      <td>World</td>\n",
              "      <td>OWID_WRL</td>\n",
              "      <td>1998</td>\n",
              "      <td>8.400000e-01</td>\n",
              "      <td>NaN</td>\n",
              "      <td>0.024800</td>\n",
              "      <td>NaN</td>\n",
              "    </tr>\n",
              "    <tr>\n",
              "      <th>25</th>\n",
              "      <td>World</td>\n",
              "      <td>OWID_WRL</td>\n",
              "      <td>1999</td>\n",
              "      <td>7.800000e-01</td>\n",
              "      <td>NaN</td>\n",
              "      <td>0.008800</td>\n",
              "      <td>NaN</td>\n",
              "    </tr>\n",
              "    <tr>\n",
              "      <th>26</th>\n",
              "      <td>World</td>\n",
              "      <td>OWID_WRL</td>\n",
              "      <td>2000</td>\n",
              "      <td>7.000000e-01</td>\n",
              "      <td>NaN</td>\n",
              "      <td>0.004070</td>\n",
              "      <td>NaN</td>\n",
              "    </tr>\n",
              "    <tr>\n",
              "      <th>27</th>\n",
              "      <td>World</td>\n",
              "      <td>OWID_WRL</td>\n",
              "      <td>2001</td>\n",
              "      <td>1.500000e-01</td>\n",
              "      <td>NaN</td>\n",
              "      <td>0.002590</td>\n",
              "      <td>NaN</td>\n",
              "    </tr>\n",
              "    <tr>\n",
              "      <th>28</th>\n",
              "      <td>World</td>\n",
              "      <td>OWID_WRL</td>\n",
              "      <td>2002</td>\n",
              "      <td>1.300000e-01</td>\n",
              "      <td>NaN</td>\n",
              "      <td>0.001220</td>\n",
              "      <td>NaN</td>\n",
              "    </tr>\n",
              "    <tr>\n",
              "      <th>29</th>\n",
              "      <td>World</td>\n",
              "      <td>OWID_WRL</td>\n",
              "      <td>2003</td>\n",
              "      <td>7.600000e-02</td>\n",
              "      <td>0.191000</td>\n",
              "      <td>0.001060</td>\n",
              "      <td>NaN</td>\n",
              "    </tr>\n",
              "    <tr>\n",
              "      <th>30</th>\n",
              "      <td>World</td>\n",
              "      <td>OWID_WRL</td>\n",
              "      <td>2006</td>\n",
              "      <td>7.300000e-02</td>\n",
              "      <td>0.014600</td>\n",
              "      <td>0.000219</td>\n",
              "      <td>NaN</td>\n",
              "    </tr>\n",
              "    <tr>\n",
              "      <th>31</th>\n",
              "      <td>World</td>\n",
              "      <td>OWID_WRL</td>\n",
              "      <td>2007</td>\n",
              "      <td>2.400000e-02</td>\n",
              "      <td>0.007320</td>\n",
              "      <td>0.000200</td>\n",
              "      <td>NaN</td>\n",
              "    </tr>\n",
              "    <tr>\n",
              "      <th>32</th>\n",
              "      <td>World</td>\n",
              "      <td>OWID_WRL</td>\n",
              "      <td>2008</td>\n",
              "      <td>1.000000e-02</td>\n",
              "      <td>0.001830</td>\n",
              "      <td>0.000100</td>\n",
              "      <td>NaN</td>\n",
              "    </tr>\n",
              "    <tr>\n",
              "      <th>33</th>\n",
              "      <td>World</td>\n",
              "      <td>OWID_WRL</td>\n",
              "      <td>2011</td>\n",
              "      <td>5.100000e-03</td>\n",
              "      <td>0.001007</td>\n",
              "      <td>0.000037</td>\n",
              "      <td>NaN</td>\n",
              "    </tr>\n",
              "    <tr>\n",
              "      <th>34</th>\n",
              "      <td>World</td>\n",
              "      <td>OWID_WRL</td>\n",
              "      <td>2012</td>\n",
              "      <td>3.700000e-03</td>\n",
              "      <td>0.000580</td>\n",
              "      <td>NaN</td>\n",
              "      <td>NaN</td>\n",
              "    </tr>\n",
              "    <tr>\n",
              "      <th>35</th>\n",
              "      <td>World</td>\n",
              "      <td>OWID_WRL</td>\n",
              "      <td>2016</td>\n",
              "      <td>2.700000e-03</td>\n",
              "      <td>NaN</td>\n",
              "      <td>0.000028</td>\n",
              "      <td>0.000203</td>\n",
              "    </tr>\n",
              "    <tr>\n",
              "      <th>36</th>\n",
              "      <td>World</td>\n",
              "      <td>OWID_WRL</td>\n",
              "      <td>2005</td>\n",
              "      <td>NaN</td>\n",
              "      <td>0.076200</td>\n",
              "      <td>0.000406</td>\n",
              "      <td>NaN</td>\n",
              "    </tr>\n",
              "    <tr>\n",
              "      <th>37</th>\n",
              "      <td>World</td>\n",
              "      <td>OWID_WRL</td>\n",
              "      <td>2009</td>\n",
              "      <td>NaN</td>\n",
              "      <td>0.001620</td>\n",
              "      <td>0.000070</td>\n",
              "      <td>NaN</td>\n",
              "    </tr>\n",
              "    <tr>\n",
              "      <th>38</th>\n",
              "      <td>World</td>\n",
              "      <td>OWID_WRL</td>\n",
              "      <td>2010</td>\n",
              "      <td>NaN</td>\n",
              "      <td>0.001190</td>\n",
              "      <td>0.000045</td>\n",
              "      <td>NaN</td>\n",
              "    </tr>\n",
              "    <tr>\n",
              "      <th>39</th>\n",
              "      <td>World</td>\n",
              "      <td>OWID_WRL</td>\n",
              "      <td>2013</td>\n",
              "      <td>NaN</td>\n",
              "      <td>0.000458</td>\n",
              "      <td>NaN</td>\n",
              "      <td>0.000625</td>\n",
              "    </tr>\n",
              "    <tr>\n",
              "      <th>40</th>\n",
              "      <td>World</td>\n",
              "      <td>OWID_WRL</td>\n",
              "      <td>2014</td>\n",
              "      <td>NaN</td>\n",
              "      <td>0.000335</td>\n",
              "      <td>0.000035</td>\n",
              "      <td>0.000375</td>\n",
              "    </tr>\n",
              "    <tr>\n",
              "      <th>41</th>\n",
              "      <td>World</td>\n",
              "      <td>OWID_WRL</td>\n",
              "      <td>2015</td>\n",
              "      <td>NaN</td>\n",
              "      <td>0.000145</td>\n",
              "      <td>0.000028</td>\n",
              "      <td>0.000250</td>\n",
              "    </tr>\n",
              "    <tr>\n",
              "      <th>42</th>\n",
              "      <td>World</td>\n",
              "      <td>OWID_WRL</td>\n",
              "      <td>1956</td>\n",
              "      <td>NaN</td>\n",
              "      <td>NaN</td>\n",
              "      <td>9200.000000</td>\n",
              "      <td>NaN</td>\n",
              "    </tr>\n",
              "    <tr>\n",
              "      <th>43</th>\n",
              "      <td>World</td>\n",
              "      <td>OWID_WRL</td>\n",
              "      <td>1964</td>\n",
              "      <td>NaN</td>\n",
              "      <td>NaN</td>\n",
              "      <td>3518.620000</td>\n",
              "      <td>NaN</td>\n",
              "    </tr>\n",
              "    <tr>\n",
              "      <th>44</th>\n",
              "      <td>World</td>\n",
              "      <td>OWID_WRL</td>\n",
              "      <td>1966</td>\n",
              "      <td>NaN</td>\n",
              "      <td>NaN</td>\n",
              "      <td>1047.260000</td>\n",
              "      <td>NaN</td>\n",
              "    </tr>\n",
              "    <tr>\n",
              "      <th>45</th>\n",
              "      <td>World</td>\n",
              "      <td>OWID_WRL</td>\n",
              "      <td>1988</td>\n",
              "      <td>NaN</td>\n",
              "      <td>NaN</td>\n",
              "      <td>9.970000</td>\n",
              "      <td>NaN</td>\n",
              "    </tr>\n",
              "    <tr>\n",
              "      <th>46</th>\n",
              "      <td>World</td>\n",
              "      <td>OWID_WRL</td>\n",
              "      <td>1993</td>\n",
              "      <td>NaN</td>\n",
              "      <td>NaN</td>\n",
              "      <td>0.718000</td>\n",
              "      <td>NaN</td>\n",
              "    </tr>\n",
              "    <tr>\n",
              "      <th>47</th>\n",
              "      <td>World</td>\n",
              "      <td>OWID_WRL</td>\n",
              "      <td>1994</td>\n",
              "      <td>NaN</td>\n",
              "      <td>NaN</td>\n",
              "      <td>0.433000</td>\n",
              "      <td>NaN</td>\n",
              "    </tr>\n",
              "    <tr>\n",
              "      <th>48</th>\n",
              "      <td>World</td>\n",
              "      <td>OWID_WRL</td>\n",
              "      <td>1995</td>\n",
              "      <td>NaN</td>\n",
              "      <td>NaN</td>\n",
              "      <td>0.214000</td>\n",
              "      <td>NaN</td>\n",
              "    </tr>\n",
              "    <tr>\n",
              "      <th>49</th>\n",
              "      <td>World</td>\n",
              "      <td>OWID_WRL</td>\n",
              "      <td>2004</td>\n",
              "      <td>NaN</td>\n",
              "      <td>NaN</td>\n",
              "      <td>0.000609</td>\n",
              "      <td>NaN</td>\n",
              "    </tr>\n",
              "    <tr>\n",
              "      <th>50</th>\n",
              "      <td>World</td>\n",
              "      <td>OWID_WRL</td>\n",
              "      <td>2017</td>\n",
              "      <td>NaN</td>\n",
              "      <td>NaN</td>\n",
              "      <td>0.000025</td>\n",
              "      <td>NaN</td>\n",
              "    </tr>\n",
              "    <tr>\n",
              "      <th>51</th>\n",
              "      <td>World</td>\n",
              "      <td>OWID_WRL</td>\n",
              "      <td>2018</td>\n",
              "      <td>NaN</td>\n",
              "      <td>NaN</td>\n",
              "      <td>0.000023</td>\n",
              "      <td>0.000104</td>\n",
              "    </tr>\n",
              "    <tr>\n",
              "      <th>52</th>\n",
              "      <td>World</td>\n",
              "      <td>OWID_WRL</td>\n",
              "      <td>2019</td>\n",
              "      <td>NaN</td>\n",
              "      <td>NaN</td>\n",
              "      <td>0.000019</td>\n",
              "      <td>0.000079</td>\n",
              "    </tr>\n",
              "    <tr>\n",
              "      <th>53</th>\n",
              "      <td>World</td>\n",
              "      <td>OWID_WRL</td>\n",
              "      <td>2020</td>\n",
              "      <td>NaN</td>\n",
              "      <td>NaN</td>\n",
              "      <td>0.000016</td>\n",
              "      <td>0.000075</td>\n",
              "    </tr>\n",
              "  </tbody>\n",
              "</table>\n",
              "</div>\n",
              "      <button class=\"colab-df-convert\" onclick=\"convertToInteractive('df-3c7306c9-48f7-4cfb-969c-006c35cc967e')\"\n",
              "              title=\"Convert this dataframe to an interactive table.\"\n",
              "              style=\"display:none;\">\n",
              "        \n",
              "  <svg xmlns=\"http://www.w3.org/2000/svg\" height=\"24px\"viewBox=\"0 0 24 24\"\n",
              "       width=\"24px\">\n",
              "    <path d=\"M0 0h24v24H0V0z\" fill=\"none\"/>\n",
              "    <path d=\"M18.56 5.44l.94 2.06.94-2.06 2.06-.94-2.06-.94-.94-2.06-.94 2.06-2.06.94zm-11 1L8.5 8.5l.94-2.06 2.06-.94-2.06-.94L8.5 2.5l-.94 2.06-2.06.94zm10 10l.94 2.06.94-2.06 2.06-.94-2.06-.94-.94-2.06-.94 2.06-2.06.94z\"/><path d=\"M17.41 7.96l-1.37-1.37c-.4-.4-.92-.59-1.43-.59-.52 0-1.04.2-1.43.59L10.3 9.45l-7.72 7.72c-.78.78-.78 2.05 0 2.83L4 21.41c.39.39.9.59 1.41.59.51 0 1.02-.2 1.41-.59l7.78-7.78 2.81-2.81c.8-.78.8-2.07 0-2.86zM5.41 20L4 18.59l7.72-7.72 1.47 1.35L5.41 20z\"/>\n",
              "  </svg>\n",
              "      </button>\n",
              "      \n",
              "  <style>\n",
              "    .colab-df-container {\n",
              "      display:flex;\n",
              "      flex-wrap:wrap;\n",
              "      gap: 12px;\n",
              "    }\n",
              "\n",
              "    .colab-df-convert {\n",
              "      background-color: #E8F0FE;\n",
              "      border: none;\n",
              "      border-radius: 50%;\n",
              "      cursor: pointer;\n",
              "      display: none;\n",
              "      fill: #1967D2;\n",
              "      height: 32px;\n",
              "      padding: 0 0 0 0;\n",
              "      width: 32px;\n",
              "    }\n",
              "\n",
              "    .colab-df-convert:hover {\n",
              "      background-color: #E2EBFA;\n",
              "      box-shadow: 0px 1px 2px rgba(60, 64, 67, 0.3), 0px 1px 3px 1px rgba(60, 64, 67, 0.15);\n",
              "      fill: #174EA6;\n",
              "    }\n",
              "\n",
              "    [theme=dark] .colab-df-convert {\n",
              "      background-color: #3B4455;\n",
              "      fill: #D2E3FC;\n",
              "    }\n",
              "\n",
              "    [theme=dark] .colab-df-convert:hover {\n",
              "      background-color: #434B5C;\n",
              "      box-shadow: 0px 1px 3px 1px rgba(0, 0, 0, 0.15);\n",
              "      filter: drop-shadow(0px 1px 2px rgba(0, 0, 0, 0.3));\n",
              "      fill: #FFFFFF;\n",
              "    }\n",
              "  </style>\n",
              "\n",
              "      <script>\n",
              "        const buttonEl =\n",
              "          document.querySelector('#df-3c7306c9-48f7-4cfb-969c-006c35cc967e button.colab-df-convert');\n",
              "        buttonEl.style.display =\n",
              "          google.colab.kernel.accessAllowed ? 'block' : 'none';\n",
              "\n",
              "        async function convertToInteractive(key) {\n",
              "          const element = document.querySelector('#df-3c7306c9-48f7-4cfb-969c-006c35cc967e');\n",
              "          const dataTable =\n",
              "            await google.colab.kernel.invokeFunction('convertToInteractive',\n",
              "                                                     [key], {});\n",
              "          if (!dataTable) return;\n",
              "\n",
              "          const docLinkHtml = 'Like what you see? Visit the ' +\n",
              "            '<a target=\"_blank\" href=https://colab.research.google.com/notebooks/data_table.ipynb>data table notebook</a>'\n",
              "            + ' to learn more about interactive tables.';\n",
              "          element.innerHTML = '';\n",
              "          dataTable['output_type'] = 'display_data';\n",
              "          await google.colab.output.renderOutput(dataTable, element);\n",
              "          const docLink = document.createElement('div');\n",
              "          docLink.innerHTML = docLinkHtml;\n",
              "          element.appendChild(docLink);\n",
              "        }\n",
              "      </script>\n",
              "    </div>\n",
              "  </div>\n",
              "  "
            ]
          },
          "metadata": {},
          "execution_count": 2
        }
      ]
    },
    {
      "cell_type": "markdown",
      "source": [
        "## Item 01: Descriptive Analytics\n",
        "Answer the following questions based on the descriptive analytics you have done on the dataset provided for the assessment:\n",
        "1. How much would 1 Tb of Disk drive storage cost on average in the 90's in USD (round up to two decimal places)?\n",
        "2. Determine which of the fields in the dataset are numerical or categorical. Please explain your answer with supporting code. \n",
        "3. Recreate the figure below as similar as possible using the original dataset."
      ],
      "metadata": {
        "id": "fzRzpA2x2wi4"
      }
    },
    {
      "cell_type": "markdown",
      "source": [
        "![](https://ourworldindata.org/grapher/exports/historical-cost-of-computer-memory-and-storage.svg)"
      ],
      "metadata": {
        "id": "h_kkxjF9AAFV"
      }
    },
    {
      "cell_type": "code",
      "source": [
        "filtered_df = df[(df['Year'] >= 1990) & (df['Year'] < 2000)]\n",
        "filtered_df = filtered_df.sort_values(by='Year')\n",
        "mb_cost = filtered_df['disk_drives'].mean().round(decimals = 2)"
      ],
      "metadata": {
        "id": "b5X6TsD6omeR"
      },
      "execution_count": 3,
      "outputs": []
    },
    {
      "cell_type": "code",
      "source": [
        "print(f\"mb cost: $ {mb_cost:,} USD\")"
      ],
      "metadata": {
        "colab": {
          "base_uri": "https://localhost:8080/"
        },
        "id": "xYEx66erovtk",
        "outputId": "a15db894-93f1-4c66-ec5c-2e24110b3e05"
      },
      "execution_count": 4,
      "outputs": [
        {
          "output_type": "stream",
          "name": "stdout",
          "text": [
            "mb cost: $ 0.9 USD\n"
          ]
        }
      ]
    },
    {
      "cell_type": "code",
      "source": [
        "tb_cost = (filtered_df['disk_drives'] * 1048576).mean().round(decimals = 2)"
      ],
      "metadata": {
        "id": "7cz0UkCBo6Tu"
      },
      "execution_count": 5,
      "outputs": []
    },
    {
      "cell_type": "code",
      "source": [
        "print(f\"tb cost: $ {tb_cost:,} USD\")"
      ],
      "metadata": {
        "colab": {
          "base_uri": "https://localhost:8080/"
        },
        "id": "ECOXxYSto9i8",
        "outputId": "9a429106-363f-4dda-f1bb-65dd331879ac"
      },
      "execution_count": 6,
      "outputs": [
        {
          "output_type": "stream",
          "name": "stdout",
          "text": [
            "tb cost: $ 947,388.42 USD\n"
          ]
        }
      ]
    },
    {
      "cell_type": "markdown",
      "source": [
        "*$ 947, 388. 42 is the average cost of a 1 TB disk drive during 90s*"
      ],
      "metadata": {
        "id": "QF8vJSmp--kD"
      }
    },
    {
      "cell_type": "code",
      "source": [
        "## Coding Space for Item 01-\n",
        "for column in df:\n",
        "    print(f\"{column}: {df[column].dtype}\")"
      ],
      "metadata": {
        "id": "TvFrU8gtG93B",
        "outputId": "08579298-186a-4e0e-aacc-88a0699b5429",
        "colab": {
          "base_uri": "https://localhost:8080/"
        }
      },
      "execution_count": 7,
      "outputs": [
        {
          "output_type": "stream",
          "name": "stdout",
          "text": [
            "Entity: object\n",
            "Code: object\n",
            "Year: int64\n",
            "memory: float64\n",
            "flash: float64\n",
            "disk_drives: float64\n",
            "ssd: float64\n"
          ]
        }
      ]
    },
    {
      "cell_type": "markdown",
      "source": [
        "\"Year\" is a categorical (\"disk drives\") column, while \"Year\" is an integer (\"int64\") (object). This means that while the \"Year\" column contains numerical values, the \"disk drives\" column contains text values that represent the price of disk drives."
      ],
      "metadata": {
        "id": "8EHGFPiLHDGs"
      }
    },
    {
      "cell_type": "code",
      "source": [
        "plt.plot(df['Year'], df['memory'], label='Memory')\n",
        "plt.plot(df['Year'], df['flash'], label='Flash storage')\n",
        "plt.plot(df['Year'], df['ssd'], label='Solid state storage')\n",
        "plt.plot(df['Year'], df['disk_drives'], label='Disk drives')\n",
        "plt.legend()\n",
        "plt.xlabel('Year')\n",
        "plt.ylabel('Cost (in dollars)')\n",
        "plt.title('Cost of Memory and Storage Over the Years')\n",
        "plt.show()"
      ],
      "metadata": {
        "colab": {
          "base_uri": "https://localhost:8080/",
          "height": 295
        },
        "id": "B3pIxw69uHI_",
        "outputId": "94aad80e-577a-499a-ada8-d6ab3208c7d3"
      },
      "execution_count": 8,
      "outputs": [
        {
          "output_type": "display_data",
          "data": {
            "text/plain": [
              "<Figure size 432x288 with 1 Axes>"
            ],
            "image/png": "[encoded data removed]"
          },
          "metadata": {
            "needs_background": "light"
          }
        }
      ]
    },
    {
      "cell_type": "markdown",
      "source": [
        "## Item 02: Linear Algebra\n",
        "Using the same dataset in Item 01, answer the following assessments:\n",
        "1. Represent the fields `memory`, `flash`, `disk_drives`, and `ssd` as column vectors. Use the naming convention $\\mu$ for `memory`, $\\phi$ for `flash`, $\\delta$ for `disk_drives`, and $\\sigma$ for `ssd`. Further explain why the formulation is invalid:\n",
        "$$M = \\begin{pmatrix} \\mu^T \\\\ \\phi^T \\\\ \\delta^T \\\\ \\sigma^T \\end{pmatrix}^T$$\n",
        "2. Determine the Euclidean norm of $\\mu$, $\\phi$, $\\delta$, and $\\sigma$. (accuracy up to four decimal places will be considered for checking)\n",
        "3. Transform the vectors $\\mu$, $\\phi$, $\\delta$, and $\\sigma$ to $\\mu_{norm}$, $\\phi_{norm}$, $\\delta_{norm}$, and $\\sigma_{norm}$ such that it satisfies the following condition:\n",
        "$$\\forall \\mu_{ij}, \\phi_{ij},\\delta_{ij},\\sigma_{ij} \\in \\Re_{[0,1]}$$\n"
      ],
      "metadata": {
        "id": "wkSfYWtwFeJl"
      }
    },
    {
      "cell_type": "code",
      "source": [
        "## Coding Space for Item 02-1\n",
        "μ = df['memory']\n",
        "ϕ = df['flash']\n",
        "δ = df['disk_drives']\n",
        "σ = df['ssd']"
      ],
      "metadata": {
        "id": "33Dw-U_aPDoy"
      },
      "execution_count": 9,
      "outputs": []
    },
    {
      "cell_type": "code",
      "source": [
        "print(\"Memory (μ):\\n\", μ.round(decimals = 4))"
      ],
      "metadata": {
        "colab": {
          "base_uri": "https://localhost:8080/"
        },
        "id": "XjKyS2aywGg-",
        "outputId": "b97e6515-9e88-455c-ae1a-1928bf282e3f"
      },
      "execution_count": 15,
      "outputs": [
        {
          "output_type": "stream",
          "name": "stdout",
          "text": [
            "Memory (μ):\n",
            " 0     4.110418e+08\n",
            "1     6.794772e+07\n",
            "2     5.242880e+06\n",
            "3     2.642412e+06\n",
            "4     7.340030e+05\n",
            "5     3.993600e+05\n",
            "6     3.145730e+05\n",
            "7     4.992000e+04\n",
            "8     2.304000e+04\n",
            "9     1.520000e+04\n",
            "10    6.704000e+03\n",
            "11    6.480000e+03\n",
            "12    4.479000e+03\n",
            "13    1.980000e+03\n",
            "14    1.331000e+03\n",
            "15    3.000000e+02\n",
            "16    1.900000e+02\n",
            "17    1.330000e+02\n",
            "18    1.130000e+02\n",
            "19    4.600000e+01\n",
            "20    4.000000e+01\n",
            "21    2.630000e+01\n",
            "22    5.250000e+00\n",
            "23    2.160000e+00\n",
            "24    8.400000e-01\n",
            "25    7.800000e-01\n",
            "26    7.000000e-01\n",
            "27    1.500000e-01\n",
            "28    1.300000e-01\n",
            "29    7.600000e-02\n",
            "30    7.300000e-02\n",
            "31    2.400000e-02\n",
            "32    1.000000e-02\n",
            "33    5.100000e-03\n",
            "34    3.700000e-03\n",
            "35    2.700000e-03\n",
            "36             NaN\n",
            "37             NaN\n",
            "38             NaN\n",
            "39             NaN\n",
            "40             NaN\n",
            "41             NaN\n",
            "42             NaN\n",
            "43             NaN\n",
            "44             NaN\n",
            "45             NaN\n",
            "46             NaN\n",
            "47             NaN\n",
            "48             NaN\n",
            "49             NaN\n",
            "50             NaN\n",
            "51             NaN\n",
            "52             NaN\n",
            "53             NaN\n",
            "Name: memory, dtype: float64\n"
          ]
        }
      ]
    },
    {
      "cell_type": "code",
      "source": [
        "print(\"\\nFlash (ϕ):\\n\", ϕ.round(decimals = 4))"
      ],
      "metadata": {
        "colab": {
          "base_uri": "https://localhost:8080/"
        },
        "id": "THPRQkFLwY0W",
        "outputId": "dee33798-b8ae-442e-d3b7-c0bf94ffd598"
      },
      "execution_count": 17,
      "outputs": [
        {
          "output_type": "stream",
          "name": "stdout",
          "text": [
            "\n",
            "Flash (ϕ):\n",
            " 0        NaN\n",
            "1        NaN\n",
            "2        NaN\n",
            "3        NaN\n",
            "4        NaN\n",
            "5        NaN\n",
            "6        NaN\n",
            "7        NaN\n",
            "8        NaN\n",
            "9        NaN\n",
            "10       NaN\n",
            "11       NaN\n",
            "12       NaN\n",
            "13       NaN\n",
            "14       NaN\n",
            "15       NaN\n",
            "16       NaN\n",
            "17       NaN\n",
            "18       NaN\n",
            "19       NaN\n",
            "20       NaN\n",
            "21       NaN\n",
            "22       NaN\n",
            "23       NaN\n",
            "24       NaN\n",
            "25       NaN\n",
            "26       NaN\n",
            "27       NaN\n",
            "28       NaN\n",
            "29    0.1910\n",
            "30    0.0146\n",
            "31    0.0073\n",
            "32    0.0018\n",
            "33    0.0010\n",
            "34    0.0006\n",
            "35       NaN\n",
            "36    0.0762\n",
            "37    0.0016\n",
            "38    0.0012\n",
            "39    0.0005\n",
            "40    0.0003\n",
            "41    0.0001\n",
            "42       NaN\n",
            "43       NaN\n",
            "44       NaN\n",
            "45       NaN\n",
            "46       NaN\n",
            "47       NaN\n",
            "48       NaN\n",
            "49       NaN\n",
            "50       NaN\n",
            "51       NaN\n",
            "52       NaN\n",
            "53       NaN\n",
            "Name: flash, dtype: float64\n"
          ]
        }
      ]
    },
    {
      "cell_type": "code",
      "source": [
        "print(\"\\nDisk Drives (δ):\\n\", δ)"
      ],
      "metadata": {
        "colab": {
          "base_uri": "https://localhost:8080/"
        },
        "id": "2_FffJAowbQu",
        "outputId": "e1e7e7a1-4af1-421e-dde5-f9df22d2d833"
      },
      "execution_count": 12,
      "outputs": [
        {
          "output_type": "stream",
          "name": "stdout",
          "text": [
            "\n",
            "Disk Drives (δ):\n",
            " 0             NaN\n",
            "1     7600.000000\n",
            "2     3600.000000\n",
            "3             NaN\n",
            "4      259.700000\n",
            "5             NaN\n",
            "6      185.000000\n",
            "7             NaN\n",
            "8             NaN\n",
            "9             NaN\n",
            "10            NaN\n",
            "11            NaN\n",
            "12            NaN\n",
            "13            NaN\n",
            "14            NaN\n",
            "15      31.390000\n",
            "16      24.450000\n",
            "17      14.970000\n",
            "18       7.480000\n",
            "19       3.270000\n",
            "20       2.790000\n",
            "21       1.400000\n",
            "22       0.128000\n",
            "23       0.048400\n",
            "24       0.024800\n",
            "25       0.008800\n",
            "26       0.004070\n",
            "27       0.002590\n",
            "28       0.001220\n",
            "29       0.001060\n",
            "30       0.000219\n",
            "31       0.000200\n",
            "32       0.000100\n",
            "33       0.000037\n",
            "34            NaN\n",
            "35       0.000028\n",
            "36       0.000406\n",
            "37       0.000070\n",
            "38       0.000045\n",
            "39            NaN\n",
            "40       0.000035\n",
            "41       0.000028\n",
            "42    9200.000000\n",
            "43    3518.620000\n",
            "44    1047.260000\n",
            "45       9.970000\n",
            "46       0.718000\n",
            "47       0.433000\n",
            "48       0.214000\n",
            "49       0.000609\n",
            "50       0.000025\n",
            "51       0.000023\n",
            "52       0.000019\n",
            "53       0.000016\n",
            "Name: disk_drives, dtype: float64\n"
          ]
        }
      ]
    },
    {
      "cell_type": "code",
      "source": [
        "print(\"\\nSolid State Drives (σ):\\n\", σ.round(decimals = 4))"
      ],
      "metadata": {
        "colab": {
          "base_uri": "https://localhost:8080/"
        },
        "id": "i_TBqX6CwfKv",
        "outputId": "199bc524-784d-4756-e0a3-8c656f9d8c75"
      },
      "execution_count": 18,
      "outputs": [
        {
          "output_type": "stream",
          "name": "stdout",
          "text": [
            "\n",
            "Solid State Drives (σ):\n",
            " 0        NaN\n",
            "1        NaN\n",
            "2        NaN\n",
            "3        NaN\n",
            "4        NaN\n",
            "5        NaN\n",
            "6        NaN\n",
            "7        NaN\n",
            "8        NaN\n",
            "9        NaN\n",
            "10       NaN\n",
            "11       NaN\n",
            "12       NaN\n",
            "13       NaN\n",
            "14       NaN\n",
            "15       NaN\n",
            "16       NaN\n",
            "17       NaN\n",
            "18       NaN\n",
            "19       NaN\n",
            "20       NaN\n",
            "21       NaN\n",
            "22       NaN\n",
            "23       NaN\n",
            "24       NaN\n",
            "25       NaN\n",
            "26       NaN\n",
            "27       NaN\n",
            "28       NaN\n",
            "29       NaN\n",
            "30       NaN\n",
            "31       NaN\n",
            "32       NaN\n",
            "33       NaN\n",
            "34       NaN\n",
            "35    0.0002\n",
            "36       NaN\n",
            "37       NaN\n",
            "38       NaN\n",
            "39    0.0006\n",
            "40    0.0004\n",
            "41    0.0002\n",
            "42       NaN\n",
            "43       NaN\n",
            "44       NaN\n",
            "45       NaN\n",
            "46       NaN\n",
            "47       NaN\n",
            "48       NaN\n",
            "49       NaN\n",
            "50       NaN\n",
            "51    0.0001\n",
            "52    0.0001\n",
            "53    0.0001\n",
            "Name: ssd, dtype: float64\n"
          ]
        }
      ]
    },
    {
      "cell_type": "markdown",
      "source": [
        "*Because column vectors are not a common mathematical notation for representing data, the formulation is incorrect. A matrix with a single column is commonly used in mathematics to represent a column vector. You could store each field in a separate Pandas series or Numpy array, with each row defining a single year, to represent the data in the dataset as column vectors.*\n",
        "\n"
      ],
      "metadata": {
        "id": "ERjFAbiPPKi2"
      }
    },
    {
      "cell_type": "code",
      "source": [
        "## Coding Space for Item 02-2\n",
        "memory = df['memory'].values\n",
        "mu = np.array(memory, dtype=float)\n",
        "\n",
        "mu_norm = np.linalg.norm(mu)\n",
        "print(\"The Euclidean norm of μ is:\", mu_norm)"
      ],
      "metadata": {
        "id": "EuLUoXVuPFL2",
        "colab": {
          "base_uri": "https://localhost:8080/"
        },
        "outputId": "b593e6d1-db21-4779-fc64-3b6dc04597ed"
      },
      "execution_count": 19,
      "outputs": [
        {
          "output_type": "stream",
          "name": "stdout",
          "text": [
            "The Euclidean norm of μ is: nan\n"
          ]
        }
      ]
    },
    {
      "cell_type": "code",
      "source": [
        "flash = df['flash'].values\n",
        "fu = np.array(flash, dtype=float)\n",
        "\n",
        "fu_norm = np.linalg.norm(fu)\n",
        "print(\"The Euclidean norm of ϕ is:\", fu_norm)"
      ],
      "metadata": {
        "colab": {
          "base_uri": "https://localhost:8080/"
        },
        "id": "7sgSdswKxase",
        "outputId": "6497abbd-0af6-4285-8fc4-5b5d9b5a5948"
      },
      "execution_count": 24,
      "outputs": [
        {
          "output_type": "stream",
          "name": "stdout",
          "text": [
            "The Euclidean norm of ϕ is: nan\n"
          ]
        }
      ]
    },
    {
      "cell_type": "code",
      "source": [
        "disk_drives = df['disk_drives'].values\n",
        "ddu = np.array(disk_drives, dtype=float)\n",
        "\n",
        "ddu_norm = np.linalg.norm(ddu)\n",
        "print(\"The Euclidean norm of δ is:\", ddu_norm)"
      ],
      "metadata": {
        "colab": {
          "base_uri": "https://localhost:8080/"
        },
        "id": "GUPqSPL4xtif",
        "outputId": "f47aa7b0-387f-43b4-e71e-a86cf1d03eda"
      },
      "execution_count": 25,
      "outputs": [
        {
          "output_type": "stream",
          "name": "stdout",
          "text": [
            "The Euclidean norm of δ is: nan\n"
          ]
        }
      ]
    },
    {
      "cell_type": "code",
      "source": [
        "ssd = df['ssd'].values\n",
        "ssd_u = np.array(disk_drives, dtype=float)\n",
        "\n",
        "ssdu_norm = np.linalg.norm(ssd_u)\n",
        "print(\"The Euclidean norm of σ is:\", ssdu_norm)"
      ],
      "metadata": {
        "id": "ZlEK-Ly7x6sO",
        "colab": {
          "base_uri": "https://localhost:8080/"
        },
        "outputId": "442126fe-ad89-452f-a5b1-4ae38855c789"
      },
      "execution_count": 26,
      "outputs": [
        {
          "output_type": "stream",
          "name": "stdout",
          "text": [
            "The Euclidean norm of σ is: nan\n"
          ]
        }
      ]
    },
    {
      "cell_type": "markdown",
      "source": [
        "*Enter your final answer for Item 02-2 here*\n",
        "\n"
      ],
      "metadata": {
        "id": "c5PdxIG3PL4N"
      }
    },
    {
      "cell_type": "code",
      "source": [
        "## Coding Space for Item 02-3\n",
        "def normalize(vector):\n",
        "    return vector / np.linalg.norm(vector)\n",
        "\n",
        "memory = df['memory'].values\n",
        "flash = df['flash'].values\n",
        "disk_drives = df['disk_drives'].values\n",
        "ssd = df['ssd'].values"
      ],
      "metadata": {
        "id": "UQ-1-RSxPGRh"
      },
      "execution_count": 28,
      "outputs": []
    },
    {
      "cell_type": "code",
      "source": [
        "memory_norm = normalize(memory)\n",
        "flash_norm = normalize(flash)\n",
        "disk_drives_norm = normalize(disk_drives)\n",
        "ssd_norm = normalize(ssd)"
      ],
      "metadata": {
        "id": "9aWrcsPIH8bh"
      },
      "execution_count": 29,
      "outputs": []
    },
    {
      "cell_type": "code",
      "source": [
        "print(memory_norm)"
      ],
      "metadata": {
        "colab": {
          "base_uri": "https://localhost:8080/"
        },
        "id": "bCi6crOxIGfA",
        "outputId": "c4419308-0836-444f-8832-c28ac1ec8ecc"
      },
      "execution_count": 30,
      "outputs": [
        {
          "output_type": "stream",
          "name": "stdout",
          "text": [
            "[nan nan nan nan nan nan nan nan nan nan nan nan nan nan nan nan nan nan\n",
            " nan nan nan nan nan nan nan nan nan nan nan nan nan nan nan nan nan nan\n",
            " nan nan nan nan nan nan nan nan nan nan nan nan nan nan nan nan nan nan]\n"
          ]
        }
      ]
    },
    {
      "cell_type": "code",
      "source": [
        "print(flash_norm)"
      ],
      "metadata": {
        "colab": {
          "base_uri": "https://localhost:8080/"
        },
        "id": "ICy7Uu2KIKkY",
        "outputId": "c32a9e92-d359-4228-9f39-68737fc88ab1"
      },
      "execution_count": 31,
      "outputs": [
        {
          "output_type": "stream",
          "name": "stdout",
          "text": [
            "[nan nan nan nan nan nan nan nan nan nan nan nan nan nan nan nan nan nan\n",
            " nan nan nan nan nan nan nan nan nan nan nan nan nan nan nan nan nan nan\n",
            " nan nan nan nan nan nan nan nan nan nan nan nan nan nan nan nan nan nan]\n"
          ]
        }
      ]
    },
    {
      "cell_type": "code",
      "source": [
        "print(disk_drives_norm)"
      ],
      "metadata": {
        "colab": {
          "base_uri": "https://localhost:8080/"
        },
        "id": "WVUxs5ewISRg",
        "outputId": "a65471a1-a979-4a3b-8a0c-778300edabd1"
      },
      "execution_count": 32,
      "outputs": [
        {
          "output_type": "stream",
          "name": "stdout",
          "text": [
            "[nan nan nan nan nan nan nan nan nan nan nan nan nan nan nan nan nan nan\n",
            " nan nan nan nan nan nan nan nan nan nan nan nan nan nan nan nan nan nan\n",
            " nan nan nan nan nan nan nan nan nan nan nan nan nan nan nan nan nan nan]\n"
          ]
        }
      ]
    },
    {
      "cell_type": "code",
      "source": [
        "print(ssd_norm)"
      ],
      "metadata": {
        "colab": {
          "base_uri": "https://localhost:8080/"
        },
        "id": "ltA7OQNQIVji",
        "outputId": "500cc5a8-3b6c-42cb-89c7-b3a868bde25e"
      },
      "execution_count": 33,
      "outputs": [
        {
          "output_type": "stream",
          "name": "stdout",
          "text": [
            "[nan nan nan nan nan nan nan nan nan nan nan nan nan nan nan nan nan nan\n",
            " nan nan nan nan nan nan nan nan nan nan nan nan nan nan nan nan nan nan\n",
            " nan nan nan nan nan nan nan nan nan nan nan nan nan nan nan nan nan nan]\n"
          ]
        }
      ]
    },
    {
      "cell_type": "markdown",
      "source": [
        "*The given data in the \"memory\" column contains blank or non-numeric values that cannot be handled by the mathematical operations in the code, the outcome is most likely an array of NaN (Not a Number) values.*\n",
        "\n"
      ],
      "metadata": {
        "id": "qBGzpbC0PNdE"
      }
    },
    {
      "cell_type": "markdown",
      "source": [
        "## Item 03: Predictive Analytics\n",
        "Using the same dataset in Item 01 and the vectors developed in Item 02, answer the following assessments:\n",
        "1. Compute for the Pearson's R of $\\sigma$ with time and derive the best fit line for its data points. Visualize the projected line and express the best fit line using in its point-slope form (LaTex). (Tip: Perform a log transform with the target data. You may use numpy or scikit-learn) \n",
        "2. Generate a curve that will fit $\\delta$ and `Time` using the Least Squares algorithm. Perform the pseudo-inverse operation with the data. Plot the curve overlapping with $\\delta$ and express the curve equation in point-slope form. (Tip: Perform a log transform with the target data)"
      ],
      "metadata": {
        "id": "BKvTLnDxPdln"
      }
    },
    {
      "cell_type": "code",
      "source": [
        "## Coding Space for Item 03-1\n",
        "r = np.corrcoef(df[\"Year\"], df[\"ssd\"])[0, 1]\n",
        "print(f\"Pearson's R of σ with time: {r}\")"
      ],
      "metadata": {
        "id": "84cjfCridlkk",
        "colab": {
          "base_uri": "https://localhost:8080/"
        },
        "outputId": "a60130c7-1ca6-4069-f981-42bbc2312f1a"
      },
      "execution_count": 34,
      "outputs": [
        {
          "output_type": "stream",
          "name": "stdout",
          "text": [
            "Pearson's R of σ with time: nan\n"
          ]
        }
      ]
    },
    {
      "cell_type": "code",
      "source": [
        "mean_x = df[\"Year\"].mean()\n",
        "mean_y = df[\"ssd\"].mean()\n",
        "sx = df[\"Year\"].std()\n",
        "sy = df[\"ssd\"].std()\n",
        "b = r * (sy / sx)\n",
        "a = mean_y - b * mean_x\n",
        "print(f\"Best fit line: y = {b:.2f}x + {a:.2f}\")"
      ],
      "metadata": {
        "colab": {
          "base_uri": "https://localhost:8080/"
        },
        "id": "rjg8PF4eJKD4",
        "outputId": "9fdf1431-377c-457c-f27f-7104f4fcff2c"
      },
      "execution_count": 36,
      "outputs": [
        {
          "output_type": "stream",
          "name": "stdout",
          "text": [
            "Best fit line: y = nanx + nan\n"
          ]
        }
      ]
    },
    {
      "cell_type": "code",
      "source": [
        "plt.scatter(df[\"Year\"], df[\"ssd\"], label=\"Data points\")\n",
        "plt.plot(df[\"Year\"], a + b * df[\"Year\"], label=\"Best fit line\")\n",
        "plt.xlabel(\"Year\")\n",
        "plt.ylabel(\"Cost of solid state storage (σ)\")\n",
        "plt.legend()\n",
        "plt.show()"
      ],
      "metadata": {
        "colab": {
          "base_uri": "https://localhost:8080/",
          "height": 279
        },
        "id": "an-WfxSVJQ6I",
        "outputId": "a7632e94-24aa-41ec-c47f-44b4a5cc23a7"
      },
      "execution_count": 37,
      "outputs": [
        {
          "output_type": "display_data",
          "data": {
            "text/plain": [
              "<Figure size 432x288 with 1 Axes>"
            ],
            "image/png": "[encoded data removed]"
          },
          "metadata": {
            "needs_background": "light"
          }
        }
      ]
    },
    {
      "cell_type": "markdown",
      "source": [
        "Log Transform with Log Data"
      ],
      "metadata": {
        "id": "TLwhFoiwKXQT"
      }
    },
    {
      "cell_type": "code",
      "source": [
        "target = df['ssd'].values\n",
        "target_log = np.log(target)\n",
        "print(target_log)"
      ],
      "metadata": {
        "colab": {
          "base_uri": "https://localhost:8080/"
        },
        "id": "Oy9ZeSloJ9aQ",
        "outputId": "1642e955-4208-4d2f-f282-b5e8d9d07744"
      },
      "execution_count": 53,
      "outputs": [
        {
          "output_type": "stream",
          "name": "stdout",
          "text": [
            "[        nan         nan         nan         nan         nan         nan\n",
            "         nan         nan         nan         nan         nan         nan\n",
            "         nan         nan         nan         nan         nan         nan\n",
            "         nan         nan         nan         nan         nan         nan\n",
            "         nan         nan         nan         nan         nan         nan\n",
            "         nan         nan         nan         nan         nan -8.50230458\n",
            "         nan         nan         nan -7.37775891 -7.88858453 -8.29404964\n",
            "         nan         nan         nan         nan         nan         nan\n",
            "         nan         nan         nan -9.17111966 -9.44353426 -9.49802244]\n"
          ]
        }
      ]
    },
    {
      "cell_type": "code",
      "source": [
        "target = df['memory'].values\n",
        "target_log = np.log(target)\n",
        "print(target_log)"
      ],
      "metadata": {
        "colab": {
          "base_uri": "https://localhost:8080/"
        },
        "id": "28HOuZbdJy8I",
        "outputId": "bb7a1ea1-047f-4d15-c045-4f98ce8d9706"
      },
      "execution_count": 50,
      "outputs": [
        {
          "output_type": "stream",
          "name": "stdout",
          "text": [
            "[19.83420545 18.03424922 15.47238152 14.78720269 13.50626839 12.89761854\n",
            " 12.65897144 10.818177   10.04498711  9.62905071  8.81045964  8.77647579\n",
            "  8.40715509  7.59085212  7.19368582  5.70378247  5.24702407  4.89034913\n",
            "  4.72738782  3.8286414   3.68887945  3.26956894  1.65822808  0.77010822\n",
            " -0.17435339 -0.24846136 -0.35667494 -1.89711998 -2.04022083 -2.57702194\n",
            " -2.61729584 -3.72970145 -4.60517019 -5.27851474 -5.59942246 -5.91450351\n",
            "         nan         nan         nan         nan         nan         nan\n",
            "         nan         nan         nan         nan         nan         nan\n",
            "         nan         nan         nan         nan         nan         nan]\n"
          ]
        }
      ]
    },
    {
      "cell_type": "code",
      "source": [
        "target = df['flash'].values\n",
        "target_log = np.log(target)\n",
        "print(target_log)"
      ],
      "metadata": {
        "colab": {
          "base_uri": "https://localhost:8080/"
        },
        "id": "_4vhcfoMKNNh",
        "outputId": "0fef3e83-490e-4ed1-dd9f-deb495e68018"
      },
      "execution_count": 51,
      "outputs": [
        {
          "output_type": "stream",
          "name": "stdout",
          "text": [
            "[        nan         nan         nan         nan         nan         nan\n",
            "         nan         nan         nan         nan         nan         nan\n",
            "         nan         nan         nan         nan         nan         nan\n",
            "         nan         nan         nan         nan         nan         nan\n",
            "         nan         nan         nan         nan         nan -1.65548185\n",
            " -4.22673375 -4.91714495 -6.30343931 -6.90077967 -7.45248245         nan\n",
            " -2.57439382 -6.42532913 -6.73380197 -7.68864137 -8.00138003 -8.83877682\n",
            "         nan         nan         nan         nan         nan         nan\n",
            "         nan         nan         nan         nan         nan         nan]\n"
          ]
        }
      ]
    },
    {
      "cell_type": "code",
      "source": [
        "target = df['disk_drives'].values\n",
        "target_log = np.log(target)\n",
        "print(target_log)"
      ],
      "metadata": {
        "colab": {
          "base_uri": "https://localhost:8080/"
        },
        "id": "LL0MD9roKQL4",
        "outputId": "cae80d24-7bf1-45c2-f688-7731464cfa6b"
      },
      "execution_count": 52,
      "outputs": [
        {
          "output_type": "stream",
          "name": "stdout",
          "text": [
            "[         nan   8.93590353   8.18868912          nan   5.55952712\n",
            "          nan   5.22035583          nan          nan          nan\n",
            "          nan          nan          nan          nan          nan\n",
            "   3.44648937   3.19663022   2.7060482    2.01223279   1.18478998\n",
            "   1.0260416    0.33647224  -2.05572502  -3.02825547  -3.69691163\n",
            "  -4.73300356  -5.50411228  -5.9560974   -6.70890442  -6.84948637\n",
            "  -8.42643883  -8.51719319  -9.21034037 -10.2127338           nan\n",
            " -10.49407814  -7.8091574   -9.56701532 -10.00884807          nan\n",
            " -10.2601625  -10.47264875   9.12695876   8.16582415   6.95393251\n",
            "   2.29958058  -0.33128571  -0.83701755  -1.54177926  -7.40369229\n",
            " -10.59663473 -10.66277454 -10.88698703 -11.03049932]\n"
          ]
        }
      ]
    },
    {
      "cell_type": "markdown",
      "source": [
        "*Enter your final answer for Item 03-1 here*\n"
      ],
      "metadata": {
        "id": "3gTGj1RadoX0"
      }
    },
    {
      "cell_type": "code",
      "source": [
        "## Coding Space for Item 03-2\n"
      ],
      "metadata": {
        "id": "qO9dqq7FdrBD"
      },
      "execution_count": 57,
      "outputs": []
    },
    {
      "cell_type": "code",
      "source": [
        "# Log transform the target data 'memory'\n",
        "df['memory'] = np.log(df['memory'])"
      ],
      "metadata": {
        "id": "jQ9TrqufLLdz"
      },
      "execution_count": 62,
      "outputs": []
    },
    {
      "cell_type": "code",
      "source": [
        "x = df['Year'].values\n",
        "y = df['memory'].values\n",
        "A = np.array([x, np.ones(x.shape[0])]).T\n",
        "w = np.linalg.lstsq(A, y, rcond=None)[0]"
      ],
      "metadata": {
        "id": "ggTdMlDNK1sI"
      },
      "execution_count": 63,
      "outputs": []
    },
    {
      "cell_type": "code",
      "source": [
        "plt.scatter(x, y)\n",
        "plt.plot(x, w[0]*x + w[1], 'r')\n",
        "plt.xlabel('Year')\n",
        "plt.ylabel('Log of memory')\n",
        "plt.show()\n"
      ],
      "metadata": {
        "colab": {
          "base_uri": "https://localhost:8080/",
          "height": 279
        },
        "id": "go9eJ5EmK5qf",
        "outputId": "a9f3ec7e-68f8-4c24-f09d-fbe1029ae8c6"
      },
      "execution_count": 59,
      "outputs": [
        {
          "output_type": "display_data",
          "data": {
            "text/plain": [
              "<Figure size 432x288 with 1 Axes>"
            ],
            "image/png": "[encoded data removed]"
          },
          "metadata": {
            "needs_background": "light"
          }
        }
      ]
    },
    {
      "cell_type": "code",
      "source": [
        "print(\"y = {}x + {}\".format(w[0], w[1]))"
      ],
      "metadata": {
        "colab": {
          "base_uri": "https://localhost:8080/"
        },
        "id": "PioVF9-BLGLC",
        "outputId": "a493351f-066c-4cbd-cd4d-d0774b4d8ac1"
      },
      "execution_count": 60,
      "outputs": [
        {
          "output_type": "stream",
          "name": "stdout",
          "text": [
            "y = nanx + nan\n"
          ]
        }
      ]
    },
    {
      "cell_type": "code",
      "source": [
        "# Log transform the target data 'flash'\n",
        "df['flash'] = np.log(df['flash'])"
      ],
      "metadata": {
        "id": "hxxlIYGRLPtY"
      },
      "execution_count": 65,
      "outputs": []
    },
    {
      "cell_type": "code",
      "source": [
        "x = df['Year'].values\n",
        "y = df['flash'].values\n",
        "A = np.array([x, np.ones(x.shape[0])]).T\n",
        "w = np.linalg.lstsq(A, y, rcond=None)[0]"
      ],
      "metadata": {
        "id": "_rhTyfcbLUb5"
      },
      "execution_count": 66,
      "outputs": []
    },
    {
      "cell_type": "code",
      "source": [
        "plt.scatter(x, y)\n",
        "plt.plot(x, w[0]*x + w[1], 'r')\n",
        "plt.xlabel('Year')\n",
        "plt.ylabel('Log of flash')\n",
        "plt.show()"
      ],
      "metadata": {
        "colab": {
          "base_uri": "https://localhost:8080/",
          "height": 279
        },
        "id": "79-4dnzcLZiY",
        "outputId": "8f5a1ff1-ed9f-4e2e-c236-5cda34907f81"
      },
      "execution_count": 67,
      "outputs": [
        {
          "output_type": "display_data",
          "data": {
            "text/plain": [
              "<Figure size 432x288 with 1 Axes>"
            ],
            "image/png": "[encoded data removed]"
          },
          "metadata": {
            "needs_background": "light"
          }
        }
      ]
    },
    {
      "cell_type": "code",
      "source": [
        "print(\"y = {}x + {}\".format(w[0], w[1]))"
      ],
      "metadata": {
        "colab": {
          "base_uri": "https://localhost:8080/"
        },
        "id": "D2SSszHvLfCg",
        "outputId": "4f8ac878-a0af-4afa-95ab-7320555b763a"
      },
      "execution_count": 68,
      "outputs": [
        {
          "output_type": "stream",
          "name": "stdout",
          "text": [
            "y = nanx + nan\n"
          ]
        }
      ]
    },
    {
      "cell_type": "code",
      "source": [
        "# Log transform the target data 'ssd'\n",
        "df['ssd'] = np.log(df['ssd'])"
      ],
      "metadata": {
        "id": "_4CsIH1MLjiI"
      },
      "execution_count": 69,
      "outputs": []
    },
    {
      "cell_type": "code",
      "source": [
        "x = df['Year'].values\n",
        "y = df['ssd'].values\n",
        "A = np.array([x, np.ones(x.shape[0])]).T\n",
        "w = np.linalg.lstsq(A, y, rcond=None)[0]"
      ],
      "metadata": {
        "id": "JB3sh-BGLqQg"
      },
      "execution_count": 70,
      "outputs": []
    },
    {
      "cell_type": "code",
      "source": [
        "plt.scatter(x, y)\n",
        "plt.plot(x, w[0]*x + w[1], 'r')\n",
        "plt.xlabel('Year')\n",
        "plt.ylabel('Log of ssd')\n",
        "plt.show()"
      ],
      "metadata": {
        "colab": {
          "base_uri": "https://localhost:8080/",
          "height": 279
        },
        "id": "ffAoiXz5Lu3K",
        "outputId": "ab10c335-d5dc-4d2a-8a44-49b4f343ea14"
      },
      "execution_count": 71,
      "outputs": [
        {
          "output_type": "display_data",
          "data": {
            "text/plain": [
              "<Figure size 432x288 with 1 Axes>"
            ],
            "image/png": "[encoded data removed]"
          },
          "metadata": {
            "needs_background": "light"
          }
        }
      ]
    },
    {
      "cell_type": "code",
      "source": [
        "print(\"y = {}x + {}\".format(w[0], w[1]))"
      ],
      "metadata": {
        "colab": {
          "base_uri": "https://localhost:8080/"
        },
        "id": "mn9qAbxSLzDA",
        "outputId": "58b2a94b-df52-4f7c-989f-bed9f99e052d"
      },
      "execution_count": 72,
      "outputs": [
        {
          "output_type": "stream",
          "name": "stdout",
          "text": [
            "y = nanx + nan\n"
          ]
        }
      ]
    },
    {
      "cell_type": "code",
      "source": [
        "# Log transform the target data 'disk_drives'\n",
        "df['disk_drives'] = np.log(df['disk_drives'])"
      ],
      "metadata": {
        "id": "-nviBEKtL0sy"
      },
      "execution_count": null,
      "outputs": []
    },
    {
      "cell_type": "code",
      "source": [
        "x = df['Year'].values\n",
        "y = df['disk_drives'].values\n",
        "A = np.array([x, np.ones(x.shape[0])]).T\n",
        "w = np.linalg.lstsq(A, y, rcond=None)[0]"
      ],
      "metadata": {
        "id": "qE9G156-L347"
      },
      "execution_count": 74,
      "outputs": []
    },
    {
      "cell_type": "code",
      "source": [
        "plt.scatter(x, y)\n",
        "plt.plot(x, w[0]*x + w[1], 'r')\n",
        "plt.xlabel('Year')\n",
        "plt.ylabel('Log of disk_drives')\n",
        "plt.show()"
      ],
      "metadata": {
        "colab": {
          "base_uri": "https://localhost:8080/",
          "height": 279
        },
        "id": "YCBXjdhdL6pu",
        "outputId": "dc69e80c-cbb5-4e16-b116-0e70f1d1b542"
      },
      "execution_count": 75,
      "outputs": [
        {
          "output_type": "display_data",
          "data": {
            "text/plain": [
              "<Figure size 432x288 with 1 Axes>"
            ],
            "image/png": "[encoded data removed]"
          },
          "metadata": {
            "needs_background": "light"
          }
        }
      ]
    },
    {
      "cell_type": "code",
      "source": [
        "print(\"y = {}x + {}\".format(w[0], w[1]))"
      ],
      "metadata": {
        "colab": {
          "base_uri": "https://localhost:8080/"
        },
        "id": "yMd48lyLL6oL",
        "outputId": "3ac91ed0-49d9-4caf-dcb7-2d99cc9770ca"
      },
      "execution_count": 76,
      "outputs": [
        {
          "output_type": "stream",
          "name": "stdout",
          "text": [
            "y = nanx + nan\n"
          ]
        }
      ]
    },
    {
      "cell_type": "markdown",
      "source": [
        "*Enter your final answer for Item 03-2 here*\n"
      ],
      "metadata": {
        "id": "w16uk-L0duYU"
      }
    },
    {
      "cell_type": "markdown",
      "source": [
        "---------------------------------------------------------------------------------------------------END OF ASSESSMENT----------------------------------------------------------------------------------------------"
      ],
      "metadata": {
        "id": "cv-AFBOsd0L7"
      }
    }
  ]
}