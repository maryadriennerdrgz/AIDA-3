{
  "nbformat": 4,
  "nbformat_minor": 0,
  "metadata": {
    "colab": {
      "provenance": [],
      "include_colab_link": true
    },
    "kernelspec": {
      "name": "python3",
      "display_name": "Python 3"
    },
    "language_info": {
      "name": "python"
    }
  },
  "cells": [
    {
      "cell_type": "markdown",
      "metadata": {
        "id": "view-in-github",
        "colab_type": "text"
      },
      "source": [
        "<a href=\"https://colab.research.google.com/github/maryadriennerdrgz/AIDA-3/blob/main/aida3_mldl_lab01a.ipynb\" target=\"_parent\"><img src=\"https://colab.research.google.com/assets/colab-badge.svg\" alt=\"Open In Colab\"/></a>"
      ]
    },
    {
      "cell_type": "markdown",
      "source": [
        "# Activity 01: Review of Computational Methods\n",
        "$_{\\text{Machine Learning / Deep Learning Course | © D.J. Lopez 2023}}$"
      ],
      "metadata": {
        "id": "sczByhq_zrtQ"
      }
    },
    {
      "cell_type": "markdown",
      "source": [
        "Directions: Answer the questions stated in the succeeding cells using your own codes. Solutions should be shown using your own coded algorithms. If the question implies a textual answer please provide a Text cell for your worded answer. "
      ],
      "metadata": {
        "id": "ICeyBspqB1xO"
      }
    },
    {
      "cell_type": "code",
      "execution_count": null,
      "metadata": {
        "id": "9z788OT2zUiQ"
      },
      "outputs": [],
      "source": [
        "## DO NOT EDIT THIS CELL\n",
        "import numpy as np\n",
        "import pandas as pd\n",
        "import matplotlib.pyplot as plt\n",
        "import seaborn as sns\n",
        "\n",
        "df = pd.read_csv('historical-cost-of-computer-memory-and-storage.csv')\n",
        "## You can download the data here:\n",
        "## https://ourworldindata.org/grapher/historical-cost-of-computer-memory-and-storage?country=~OWID_WRL"
      ]
    },
    {
      "cell_type": "markdown",
      "source": [
        "## Item 01: Descriptive Analytics\n",
        "Answer the following questions based on the descriptive analytics you have done on the dataset provided for the assessment:\n",
        "1. How much would 1 Tb of Disk drive storage cost on average in the 90's in USD (round up to two decimal places)?\n",
        "2. Determine which of the fields in the dataset are numerical or categorical. Please explain your answer with supporting code. \n",
        "3. Recreate the figure below as similar as possible using the original dataset."
      ],
      "metadata": {
        "id": "fzRzpA2x2wi4"
      }
    },
    {
      "cell_type": "markdown",
      "source": [
        "![](https://ourworldindata.org/grapher/exports/historical-cost-of-computer-memory-and-storage.svg)"
      ],
      "metadata": {
        "id": "h_kkxjF9AAFV"
      }
    },
    {
      "cell_type": "code",
      "source": [
        "## Coding Space for Item 01-1"
      ],
      "metadata": {
        "id": "LivMnT2-Fyu9"
      },
      "execution_count": null,
      "outputs": []
    },
    {
      "cell_type": "markdown",
      "source": [
        "*Enter your final answer for Item 01-1 here*\n",
        "\n"
      ],
      "metadata": {
        "id": "oatqhF-nFzKl"
      }
    },
    {
      "cell_type": "code",
      "source": [
        "## Coding Space for Item 01-2"
      ],
      "metadata": {
        "id": "TvFrU8gtG93B"
      },
      "execution_count": null,
      "outputs": []
    },
    {
      "cell_type": "markdown",
      "source": [
        "*Enter your final answer for Item 01-2 here*"
      ],
      "metadata": {
        "id": "8EHGFPiLHDGs"
      }
    },
    {
      "cell_type": "code",
      "source": [
        "## Coding Space for Item 01-3"
      ],
      "metadata": {
        "id": "EUQr6JxQG-bg"
      },
      "execution_count": null,
      "outputs": []
    },
    {
      "cell_type": "markdown",
      "source": [
        "## Item 02: Linear Algebra\n",
        "Using the same dataset in Item 01, answer the following assessments:\n",
        "1. Represent the fields `memory`, `flash`, `disk_drives`, and `ssd` as column vectors. Use the naming convention $\\mu$ for `memory`, $\\phi$ for `flash`, $\\delta$ for `disk_drives`, and $\\sigma$ for `ssd`. Further explain why the formulation is invalid:\n",
        "$$M = \\begin{pmatrix} \\mu^T \\\\ \\phi^T \\\\ \\delta^T \\\\ \\sigma^T \\end{pmatrix}^T$$\n",
        "2. Determine the Euclidean norm of $\\mu$, $\\phi$, $\\delta$, and $\\sigma$. (accuracy up to four decimal places will be considered for checking)\n",
        "3. Transform the vectors $\\mu$, $\\phi$, $\\delta$, and $\\sigma$ to $\\mu_{norm}$, $\\phi_{norm}$, $\\delta_{norm}$, and $\\sigma_{norm}$ such that it satisfies the following condition:\n",
        "$$\\forall \\mu_{ij}, \\phi_{ij},\\delta_{ij},\\sigma_{ij} \\in \\Re_{[0,1]}$$\n"
      ],
      "metadata": {
        "id": "wkSfYWtwFeJl"
      }
    },
    {
      "cell_type": "code",
      "source": [
        "## Coding Space for Item 02-1"
      ],
      "metadata": {
        "id": "33Dw-U_aPDoy"
      },
      "execution_count": null,
      "outputs": []
    },
    {
      "cell_type": "markdown",
      "source": [
        "*Enter your final answer for Item 02-1 here*\n",
        "\n"
      ],
      "metadata": {
        "id": "ERjFAbiPPKi2"
      }
    },
    {
      "cell_type": "code",
      "source": [
        "## Coding Space for Item 02-2"
      ],
      "metadata": {
        "id": "EuLUoXVuPFL2"
      },
      "execution_count": null,
      "outputs": []
    },
    {
      "cell_type": "markdown",
      "source": [
        "*Enter your final answer for Item 02-2 here*\n",
        "\n"
      ],
      "metadata": {
        "id": "c5PdxIG3PL4N"
      }
    },
    {
      "cell_type": "code",
      "source": [
        "## Coding Space for Item 02-3"
      ],
      "metadata": {
        "id": "UQ-1-RSxPGRh"
      },
      "execution_count": null,
      "outputs": []
    },
    {
      "cell_type": "markdown",
      "source": [
        "*Enter your final answer for Item 02-3 here*\n",
        "\n"
      ],
      "metadata": {
        "id": "qBGzpbC0PNdE"
      }
    },
    {
      "cell_type": "markdown",
      "source": [
        "## Item 03: Predictive Analytics\n",
        "Using the same dataset in Item 01 and the vectors developed in Item 02, answer the following assessments:\n",
        "1. Compute for the Pearson's R of $\\sigma$ with time and derive the best fit line for its data points. Visualize the projected line and express the best fit line using in its point-slope form (LaTex). (Tip: Perform a log transform with the target data. You may use numpy or scikit-learn) \n",
        "2. Generate a curve that will fit $\\delta$ and `Time` using the Least Squares algorithm. Perform the pseudo-inverse operation with the data. Plot the curve overlapping with $\\delta$ and express the curve equation in point-slope form. (Tip: Perform a log transform with the target data)"
      ],
      "metadata": {
        "id": "BKvTLnDxPdln"
      }
    },
    {
      "cell_type": "code",
      "source": [
        "## Coding Space for Item 03-1"
      ],
      "metadata": {
        "id": "84cjfCridlkk"
      },
      "execution_count": null,
      "outputs": []
    },
    {
      "cell_type": "markdown",
      "source": [
        "*Enter your final answer for Item 03-1 here*\n"
      ],
      "metadata": {
        "id": "3gTGj1RadoX0"
      }
    },
    {
      "cell_type": "code",
      "source": [
        "## Coding Space for Item 03-2"
      ],
      "metadata": {
        "id": "qO9dqq7FdrBD"
      },
      "execution_count": null,
      "outputs": []
    },
    {
      "cell_type": "markdown",
      "source": [
        "*Enter your final answer for Item 03-2 here*\n"
      ],
      "metadata": {
        "id": "w16uk-L0duYU"
      }
    },
    {
      "cell_type": "markdown",
      "source": [
        "---------------------------------------------------------------------------------------------------END OF ASSESSMENT----------------------------------------------------------------------------------------------"
      ],
      "metadata": {
        "id": "cv-AFBOsd0L7"
      }
    }
  ]
}